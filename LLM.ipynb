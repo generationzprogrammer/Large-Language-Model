{
 "cells": [
  {
   "cell_type": "code",
   "execution_count": 7,
   "id": "32e6c1ae",
   "metadata": {},
   "outputs": [
    {
     "name": "stdout",
     "output_type": "stream",
     "text": [
      "Requirement already satisfied: transformers in ./miniconda3/lib/python3.9/site-packages (4.39.1)\n",
      "Requirement already satisfied: regex!=2019.12.17 in ./miniconda3/lib/python3.9/site-packages (from transformers) (2023.12.25)\n",
      "Requirement already satisfied: numpy>=1.17 in ./miniconda3/lib/python3.9/site-packages (from transformers) (1.25.2)\n",
      "Requirement already satisfied: tqdm>=4.27 in ./miniconda3/lib/python3.9/site-packages (from transformers) (4.65.0)\n",
      "Requirement already satisfied: pyyaml>=5.1 in ./miniconda3/lib/python3.9/site-packages (from transformers) (6.0)\n",
      "Requirement already satisfied: tokenizers<0.19,>=0.14 in ./miniconda3/lib/python3.9/site-packages (from transformers) (0.15.2)\n",
      "Requirement already satisfied: huggingface-hub<1.0,>=0.19.3 in ./miniconda3/lib/python3.9/site-packages (from transformers) (0.22.1)\n",
      "Requirement already satisfied: filelock in ./miniconda3/lib/python3.9/site-packages (from transformers) (3.12.2)\n",
      "Requirement already satisfied: packaging>=20.0 in ./miniconda3/lib/python3.9/site-packages (from transformers) (23.0)\n",
      "Requirement already satisfied: requests in ./miniconda3/lib/python3.9/site-packages (from transformers) (2.28.1)\n",
      "Requirement already satisfied: safetensors>=0.4.1 in ./miniconda3/lib/python3.9/site-packages (from transformers) (0.4.2)\n",
      "Requirement already satisfied: typing-extensions>=3.7.4.3 in ./miniconda3/lib/python3.9/site-packages (from huggingface-hub<1.0,>=0.19.3->transformers) (4.7.1)\n",
      "Requirement already satisfied: fsspec>=2023.5.0 in ./miniconda3/lib/python3.9/site-packages (from huggingface-hub<1.0,>=0.19.3->transformers) (2024.3.1)\n",
      "Requirement already satisfied: urllib3<1.27,>=1.21.1 in ./miniconda3/lib/python3.9/site-packages (from requests->transformers) (1.26.15)\n",
      "Requirement already satisfied: certifi>=2017.4.17 in ./miniconda3/lib/python3.9/site-packages (from requests->transformers) (2023.11.17)\n",
      "Requirement already satisfied: charset-normalizer<3,>=2 in ./miniconda3/lib/python3.9/site-packages (from requests->transformers) (2.0.4)\n",
      "Requirement already satisfied: idna<4,>=2.5 in ./miniconda3/lib/python3.9/site-packages (from requests->transformers) (3.4)\n"
     ]
    }
   ],
   "source": [
    "!pip install transformers"
   ]
  },
  {
   "cell_type": "code",
   "execution_count": 2,
   "id": "4f956abd",
   "metadata": {},
   "outputs": [
    {
     "name": "stderr",
     "output_type": "stream",
     "text": [
      "No model was supplied, defaulted to distilbert/distilbert-base-uncased-finetuned-sst-2-english and revision af0f99b (https://huggingface.co/distilbert/distilbert-base-uncased-finetuned-sst-2-english).\n",
      "Using a pipeline without specifying a model name and revision in production is not recommended.\n"
     ]
    },
    {
     "name": "stdout",
     "output_type": "stream",
     "text": [
      "[{'label': 'POSITIVE', 'score': 0.9998602867126465}]\n"
     ]
    }
   ],
   "source": [
    "from transformers import pipeline  \n",
    "sentiment_classifier = pipeline(\"text-classification\")  \n",
    "outputs = sentiment_classifier(\"\"\"Dear seller, I got very impressed with the fast  \n",
    "delivery and careful packaging of my order. Great  \n",
    "experience overall, thank you!\"\"\") \n",
    "print(outputs)"
   ]
  },
  {
   "cell_type": "markdown",
   "id": "cc27e448",
   "metadata": {},
   "source": [
    "# Text classification: sentiment analysis"
   ]
  },
  {
   "cell_type": "code",
   "execution_count": 1,
   "id": "22dd2b08",
   "metadata": {},
   "outputs": [
    {
     "name": "stderr",
     "output_type": "stream",
     "text": [
      "No model was supplied, defaulted to distilbert/distilbert-base-uncased-finetuned-sst-2-english and revision af0f99b (https://huggingface.co/distilbert/distilbert-base-uncased-finetuned-sst-2-english).\n",
      "Using a pipeline without specifying a model name and revision in production is not recommended.\n"
     ]
    },
    {
     "name": "stdout",
     "output_type": "stream",
     "text": [
      "POSITIVE\n"
     ]
    }
   ],
   "source": [
    "from transformers import pipeline \n",
    "\n",
    "llm = pipeline(\"text-classification\") \n",
    "text = \"Walking amid Gion's Machiya wooden houses was a mesmerizing experience\" \n",
    "outputs = llm(text) \n",
    " \n",
    "print(outputs[0]['label']) "
   ]
  },
  {
   "cell_type": "markdown",
   "id": "6f6963fc",
   "metadata": {},
   "source": [
    "# Text generation"
   ]
  },
  {
   "cell_type": "code",
   "execution_count": 3,
   "id": "b90f8373",
   "metadata": {},
   "outputs": [
    {
     "name": "stderr",
     "output_type": "stream",
     "text": [
      "No model was supplied, defaulted to openai-community/gpt2 and revision 6c0e608 (https://huggingface.co/openai-community/gpt2).\n",
      "Using a pipeline without specifying a model name and revision in production is not recommended.\n",
      "Truncation was not explicitly activated but `max_length` is provided a specific value, please use `truncation=True` to explicitly truncate examples to max length. Defaulting to 'longest_first' truncation strategy. If you encode pairs of sequences (GLUE-style) with the tokenizer you can select this strategy more precisely by providing a specific strategy to `truncation`.\n",
      "Setting `pad_token_id` to `eos_token_id`:50256 for open-end generation.\n"
     ]
    },
    {
     "name": "stdout",
     "output_type": "stream",
     "text": [
      "The Gion neighborhood in Kyoto is famous for its variety of crafts. There are many local restaurants, bars, and food service establishments. The shops cater to the needs of people who have no time for leisure and who are tired of waiting for work. The business of providing goods and services has been in the eye of the large majority of people in China. The city of Kyoto does not have many of these stores or restaurants, and that's because it is located just outside the city borders. Therefore,\n"
     ]
    }
   ],
   "source": [
    "llm = pipeline(\"text-generation\") \n",
    "prompt = \"The Gion neighborhood in Kyoto is famous for\" \n",
    "outputs = llm(prompt, max_length=100) \n",
    "print(outputs[0]['generated_text']) "
   ]
  },
  {
   "cell_type": "markdown",
   "id": "0c85211c",
   "metadata": {},
   "source": [
    "# Text summarization"
   ]
  },
  {
   "cell_type": "code",
   "execution_count": 4,
   "id": "a1ba4812",
   "metadata": {},
   "outputs": [
    {
     "name": "stdout",
     "output_type": "stream",
     "text": [
      "[{'summary_text': \"Walking amid Gion's Machiya wooden houses is a mesmerizing experience. The beautifully  preserved structures exuded an old-world charm that transports visitors back in time. The glow of lanterns lining the narrow streets add to the enchanting ambiance.\"}]\n"
     ]
    }
   ],
   "source": [
    "llm= pipeline(\"summarization\", model=\"facebook/bart-large-cnn\") \n",
    "long_text = \"\"\"Walking amid Gion's Machiya wooden houses is a mesmerizing experience. The beautifully  \n",
    "preserved structures exuded an old-world charm that transports visitors back in time, making them feel \n",
    "like they had stepped into a living museum. The glow of lanterns lining the narrow streets add to the \n",
    "enchanting ambiance, making each stroll a memorable journey through Japan's rich cultural history.\"\"\" \n",
    "outputs = llm(long_text, max_length=60, clean_up_tokenization_spaces=True) \n",
    "print(outputs)"
   ]
  },
  {
   "cell_type": "markdown",
   "id": "3fc42248",
   "metadata": {},
   "source": [
    "# Question-answering"
   ]
  },
  {
   "cell_type": "code",
   "execution_count": 5,
   "id": "8a286bff",
   "metadata": {},
   "outputs": [
    {
     "name": "stderr",
     "output_type": "stream",
     "text": [
      "No model was supplied, defaulted to distilbert/distilbert-base-cased-distilled-squad and revision 626af31 (https://huggingface.co/distilbert/distilbert-base-cased-distilled-squad).\n",
      "Using a pipeline without specifying a model name and revision in production is not recommended.\n"
     ]
    },
    {
     "name": "stdout",
     "output_type": "stream",
     "text": [
      "wooden\n"
     ]
    }
   ],
   "source": [
    "llm = pipeline(\"question-answering\") \n",
    "context = \"Walking amid Gion's Machiya wooden houses was a mesmerizing experience.\" \n",
    "question = \"What are Machiya houses made of?\" \n",
    "outputs = llm(question=question, context=context) \n",
    "print(outputs['answer']) "
   ]
  },
  {
   "cell_type": "code",
   "execution_count": 6,
   "id": "0af823ee",
   "metadata": {},
   "outputs": [
    {
     "name": "stderr",
     "output_type": "stream",
     "text": [
      "No model was supplied, defaulted to distilbert/distilbert-base-cased-distilled-squad and revision 626af31 (https://huggingface.co/distilbert/distilbert-base-cased-distilled-squad).\n",
      "Using a pipeline without specifying a model name and revision in production is not recommended.\n"
     ]
    },
    {
     "name": "stdout",
     "output_type": "stream",
     "text": [
      "天\n"
     ]
    }
   ],
   "source": [
    "#中文效果不佳？\n",
    "llm = pipeline(\"question-answering\") \n",
    "context = \"今天是晴天，昨天是下雨天\" \n",
    "question = \"今天天气如何？\" \n",
    "outputs = llm(question=question, context=context) \n",
    "print(outputs['answer']) "
   ]
  },
  {
   "cell_type": "code",
   "execution_count": null,
   "id": "21102531",
   "metadata": {},
   "outputs": [],
   "source": []
  }
 ],
 "metadata": {
  "kernelspec": {
   "display_name": "Python 3.11.8 64-bit",
   "language": "python",
   "name": "python3"
  },
  "language_info": {
   "codemirror_mode": {
    "name": "ipython",
    "version": 3
   },
   "file_extension": ".py",
   "mimetype": "text/x-python",
   "name": "python",
   "nbconvert_exporter": "python",
   "pygments_lexer": "ipython3",
   "version": "3.11.8"
  },
  "vscode": {
   "interpreter": {
    "hash": "5c7b89af1651d0b8571dde13640ecdccf7d5a6204171d6ab33e7c296e100e08a"
   }
  }
 },
 "nbformat": 4,
 "nbformat_minor": 5
}
